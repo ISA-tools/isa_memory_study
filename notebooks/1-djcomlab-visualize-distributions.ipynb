{
 "cells": [
  {
   "cell_type": "code",
   "execution_count": 1,
   "metadata": {},
   "outputs": [],
   "source": [
    "from ipywidgets import interact, interactive, fixed, interact_manual\n",
    "import ipywidgets as widgets\n",
    "import pandas as pd\n",
    "import numpy as np"
   ]
  },
  {
   "cell_type": "code",
   "execution_count": 2,
   "metadata": {},
   "outputs": [],
   "source": [
    "df = pd.read_csv(\"../data/processed/memory_footprint.csv\")"
   ]
  },
  {
   "cell_type": "code",
   "execution_count": 3,
   "metadata": {},
   "outputs": [
    {
     "data": {
      "text/html": [
       "<div>\n",
       "<style scoped>\n",
       "    .dataframe tbody tr th:only-of-type {\n",
       "        vertical-align: middle;\n",
       "    }\n",
       "\n",
       "    .dataframe tbody tr th {\n",
       "        vertical-align: top;\n",
       "    }\n",
       "\n",
       "    .dataframe thead th {\n",
       "        text-align: right;\n",
       "    }\n",
       "</style>\n",
       "<table border=\"1\" class=\"dataframe\">\n",
       "  <thead>\n",
       "    <tr style=\"text-align: right;\">\n",
       "      <th></th>\n",
       "      <th>disk_size</th>\n",
       "      <th>df_size</th>\n",
       "      <th>isa_size</th>\n",
       "    </tr>\n",
       "  </thead>\n",
       "  <tbody>\n",
       "    <tr>\n",
       "      <th>count</th>\n",
       "      <td>5.770000e+02</td>\n",
       "      <td>5.770000e+02</td>\n",
       "      <td>577.000000</td>\n",
       "    </tr>\n",
       "    <tr>\n",
       "      <th>mean</th>\n",
       "      <td>8.994587e+04</td>\n",
       "      <td>2.969127e+05</td>\n",
       "      <td>8107.632582</td>\n",
       "    </tr>\n",
       "    <tr>\n",
       "      <th>std</th>\n",
       "      <td>4.512327e+05</td>\n",
       "      <td>1.472563e+06</td>\n",
       "      <td>43190.150046</td>\n",
       "    </tr>\n",
       "    <tr>\n",
       "      <th>min</th>\n",
       "      <td>3.240000e+02</td>\n",
       "      <td>6.280000e+02</td>\n",
       "      <td>152.000000</td>\n",
       "    </tr>\n",
       "    <tr>\n",
       "      <th>25%</th>\n",
       "      <td>1.142300e+04</td>\n",
       "      <td>3.429600e+04</td>\n",
       "      <td>408.000000</td>\n",
       "    </tr>\n",
       "    <tr>\n",
       "      <th>50%</th>\n",
       "      <td>2.214000e+04</td>\n",
       "      <td>6.992000e+04</td>\n",
       "      <td>2120.000000</td>\n",
       "    </tr>\n",
       "    <tr>\n",
       "      <th>75%</th>\n",
       "      <td>5.163500e+04</td>\n",
       "      <td>1.713620e+05</td>\n",
       "      <td>5176.000000</td>\n",
       "    </tr>\n",
       "    <tr>\n",
       "      <th>max</th>\n",
       "      <td>6.725761e+06</td>\n",
       "      <td>2.173237e+07</td>\n",
       "      <td>953856.000000</td>\n",
       "    </tr>\n",
       "  </tbody>\n",
       "</table>\n",
       "</div>"
      ],
      "text/plain": [
       "          disk_size       df_size       isa_size\n",
       "count  5.770000e+02  5.770000e+02     577.000000\n",
       "mean   8.994587e+04  2.969127e+05    8107.632582\n",
       "std    4.512327e+05  1.472563e+06   43190.150046\n",
       "min    3.240000e+02  6.280000e+02     152.000000\n",
       "25%    1.142300e+04  3.429600e+04     408.000000\n",
       "50%    2.214000e+04  6.992000e+04    2120.000000\n",
       "75%    5.163500e+04  1.713620e+05    5176.000000\n",
       "max    6.725761e+06  2.173237e+07  953856.000000"
      ]
     },
     "execution_count": 3,
     "metadata": {},
     "output_type": "execute_result"
    }
   ],
   "source": [
    "df.describe()"
   ]
  },
  {
   "cell_type": "code",
   "execution_count": 4,
   "metadata": {},
   "outputs": [],
   "source": [
    "df_by_cat = pd.read_csv(\"../data/processed/obj_footprint_by_category.csv\")"
   ]
  },
  {
   "cell_type": "code",
   "execution_count": 5,
   "metadata": {},
   "outputs": [
    {
     "data": {
      "application/vnd.jupyter.widget-view+json": {
       "model_id": "1e239f8625b54240a377185c486efe2d",
       "version_major": 2,
       "version_minor": 0
      },
      "text/plain": [
       "interactive(children=(IntSlider(value=100000, description='max_x', max=7000000, min=3000, step=1000), Output()…"
      ]
     },
     "metadata": {},
     "output_type": "display_data"
    }
   ],
   "source": [
    "def plot_scatter_size(max_x):\n",
    "    cmap = {'DataFrame': 'blue', 'ISA': 'red'}\n",
    "    _ = df_by_cat[df_by_cat.disk_size < max_x].plot.scatter(\n",
    "            x='disk_size', y='size', \n",
    "            c=[cmap.get(c) for c in df_by_cat[df_by_cat.disk_size < max_x].category])\n",
    "_ = interact(plot_scatter_size, \n",
    "             max_x=widgets.IntSlider(min=3000, max=7000000, step=1000, value=100000))"
   ]
  },
  {
   "cell_type": "code",
   "execution_count": 6,
   "metadata": {},
   "outputs": [
    {
     "data": {
      "application/vnd.jupyter.widget-view+json": {
       "model_id": "d9500bfad65a43488bbb5082222c823c",
       "version_major": 2,
       "version_minor": 0
      },
      "text/plain": [
       "interactive(children=(IntSlider(value=1000000, description='max_x', max=7000000, min=3000, step=1000), Output(…"
      ]
     },
     "metadata": {},
     "output_type": "display_data"
    }
   ],
   "source": [
    "def plot_scatter_log_size(max_x):\n",
    "    cmap = {'DataFrame': 'blue', 'ISA': 'red'}\n",
    "    _ = df_by_cat[df_by_cat.disk_size < max_x].plot.scatter(\n",
    "            x='disk_size', y='log_size', \n",
    "            c=[cmap.get(c) for c in df_by_cat[df_by_cat.disk_size < max_x].category])\n",
    "_ = interact(plot_scatter_log_size, \n",
    "             max_x=widgets.IntSlider(min=3000, max=7000000, step=1000, value=1000000))"
   ]
  },
  {
   "cell_type": "code",
   "execution_count": 7,
   "metadata": {},
   "outputs": [
    {
     "data": {
      "image/png": "[encoded data removed]",
      "text/plain": [
       "<Figure size 432x288 with 1 Axes>"
      ]
     },
     "metadata": {
      "needs_background": "light"
     },
     "output_type": "display_data"
    }
   ],
   "source": [
    "plot_scatter_size(100000)"
   ]
  },
  {
   "cell_type": "code",
   "execution_count": 8,
   "metadata": {},
   "outputs": [
    {
     "data": {
      "image/png": "[encoded data removed]",
      "text/plain": [
       "<Figure size 432x288 with 1 Axes>"
      ]
     },
     "metadata": {
      "needs_background": "light"
     },
     "output_type": "display_data"
    }
   ],
   "source": [
    "plot_scatter_log_size(1000000)"
   ]
  },
  {
   "cell_type": "code",
   "execution_count": null,
   "metadata": {},
   "outputs": [],
   "source": []
  }
 ],
 "metadata": {
  "kernelspec": {
   "display_name": "Python 3",
   "language": "python",
   "name": "python3"
  },
  "language_info": {
   "codemirror_mode": {
    "name": "ipython",
    "version": 3
   },
   "file_extension": ".py",
   "mimetype": "text/x-python",
   "name": "python",
   "nbconvert_exporter": "python",
   "pygments_lexer": "ipython3",
   "version": "3.6.7"
  }
 },
 "nbformat": 4,
 "nbformat_minor": 2
}
