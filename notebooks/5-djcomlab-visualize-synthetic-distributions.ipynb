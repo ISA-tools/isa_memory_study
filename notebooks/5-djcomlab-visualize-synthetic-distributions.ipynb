{
 "cells": [
  {
   "cell_type": "code",
   "execution_count": 5,
   "metadata": {},
   "outputs": [],
   "source": [
    "from ipywidgets import interact, interactive, fixed, interact_manual\n",
    "import ipywidgets as widgets\n",
    "import pandas as pd\n",
    "import numpy as np"
   ]
  },
  {
   "cell_type": "code",
   "execution_count": 2,
   "metadata": {},
   "outputs": [],
   "source": [
    "synthetic_memory_data = pd.read_csv(\"synthetic-memory_footprint.csv\")"
   ]
  },
  {
   "cell_type": "code",
   "execution_count": 3,
   "metadata": {},
   "outputs": [
    {
     "data": {
      "text/html": [
       "<div>\n",
       "<style scoped>\n",
       "    .dataframe tbody tr th:only-of-type {\n",
       "        vertical-align: middle;\n",
       "    }\n",
       "\n",
       "    .dataframe tbody tr th {\n",
       "        vertical-align: top;\n",
       "    }\n",
       "\n",
       "    .dataframe thead th {\n",
       "        text-align: right;\n",
       "    }\n",
       "</style>\n",
       "<table border=\"1\" class=\"dataframe\">\n",
       "  <thead>\n",
       "    <tr style=\"text-align: right;\">\n",
       "      <th></th>\n",
       "      <th>disk_size</th>\n",
       "      <th>df_size</th>\n",
       "      <th>isa_size</th>\n",
       "    </tr>\n",
       "  </thead>\n",
       "  <tbody>\n",
       "    <tr>\n",
       "      <th>count</th>\n",
       "      <td>43.000000</td>\n",
       "      <td>43.000000</td>\n",
       "      <td>43.000000</td>\n",
       "    </tr>\n",
       "    <tr>\n",
       "      <th>mean</th>\n",
       "      <td>16750.162791</td>\n",
       "      <td>19687.697674</td>\n",
       "      <td>5191.069767</td>\n",
       "    </tr>\n",
       "    <tr>\n",
       "      <th>std</th>\n",
       "      <td>3644.651175</td>\n",
       "      <td>4620.580630</td>\n",
       "      <td>975.059983</td>\n",
       "    </tr>\n",
       "    <tr>\n",
       "      <th>min</th>\n",
       "      <td>8976.000000</td>\n",
       "      <td>11075.000000</td>\n",
       "      <td>2712.000000</td>\n",
       "    </tr>\n",
       "    <tr>\n",
       "      <th>25%</th>\n",
       "      <td>14646.000000</td>\n",
       "      <td>16704.000000</td>\n",
       "      <td>5312.000000</td>\n",
       "    </tr>\n",
       "    <tr>\n",
       "      <th>50%</th>\n",
       "      <td>18561.000000</td>\n",
       "      <td>21974.000000</td>\n",
       "      <td>5312.000000</td>\n",
       "    </tr>\n",
       "    <tr>\n",
       "      <th>75%</th>\n",
       "      <td>18561.000000</td>\n",
       "      <td>21974.000000</td>\n",
       "      <td>5312.000000</td>\n",
       "    </tr>\n",
       "    <tr>\n",
       "      <th>max</th>\n",
       "      <td>26597.000000</td>\n",
       "      <td>33176.000000</td>\n",
       "      <td>7912.000000</td>\n",
       "    </tr>\n",
       "  </tbody>\n",
       "</table>\n",
       "</div>"
      ],
      "text/plain": [
       "          disk_size       df_size     isa_size\n",
       "count     43.000000     43.000000    43.000000\n",
       "mean   16750.162791  19687.697674  5191.069767\n",
       "std     3644.651175   4620.580630   975.059983\n",
       "min     8976.000000  11075.000000  2712.000000\n",
       "25%    14646.000000  16704.000000  5312.000000\n",
       "50%    18561.000000  21974.000000  5312.000000\n",
       "75%    18561.000000  21974.000000  5312.000000\n",
       "max    26597.000000  33176.000000  7912.000000"
      ]
     },
     "execution_count": 3,
     "metadata": {},
     "output_type": "execute_result"
    }
   ],
   "source": [
    "synthetic_memory_data.describe()"
   ]
  },
  {
   "cell_type": "code",
   "execution_count": 7,
   "metadata": {},
   "outputs": [],
   "source": [
    "df_by_cat = pd.read_csv(\"synthetic-memory_by_category.csv\")"
   ]
  },
  {
   "cell_type": "code",
   "execution_count": 10,
   "metadata": {},
   "outputs": [],
   "source": [
    "def plot_scatter_size(max_x):\n",
    "    cmap = {'DataFrame': 'blue', 'ISA': 'red'}\n",
    "    _ = df_by_cat[df_by_cat.disk_size < max_x].plot.scatter(\n",
    "            x='disk_size', y='size', \n",
    "            c=[cmap.get(c) for c in df_by_cat[df_by_cat.disk_size < max_x].category])"
   ]
  },
  {
   "cell_type": "code",
   "execution_count": 23,
   "metadata": {},
   "outputs": [
    {
     "data": {
      "image/png": "[encoded data removed]",
      "text/plain": [
       "<Figure size 432x288 with 1 Axes>"
      ]
     },
     "metadata": {
      "needs_background": "light"
     },
     "output_type": "display_data"
    }
   ],
   "source": [
    "plot_scatter_size(27500)"
   ]
  },
  {
   "cell_type": "code",
   "execution_count": null,
   "metadata": {},
   "outputs": [],
   "source": []
  }
 ],
 "metadata": {
  "kernelspec": {
   "display_name": "Python 3",
   "language": "python",
   "name": "python3"
  },
  "language_info": {
   "codemirror_mode": {
    "name": "ipython",
    "version": 3
   },
   "file_extension": ".py",
   "mimetype": "text/x-python",
   "name": "python",
   "nbconvert_exporter": "python",
   "pygments_lexer": "ipython3",
   "version": "3.6.8"
  }
 },
 "nbformat": 4,
 "nbformat_minor": 2
}
